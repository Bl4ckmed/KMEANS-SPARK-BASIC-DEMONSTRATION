{
 "cells": [
  {
   "cell_type": "markdown",
   "metadata": {},
   "source": [
    "# BELLAKHAL Mohamed KMEANS DEMO"
   ]
  },
  {
   "cell_type": "code",
   "execution_count": 1,
   "metadata": {},
   "outputs": [
    {
     "data": {
      "text/plain": [
       "'C:\\\\spark-2.4.7-bin-hadoop2.7'"
      ]
     },
     "execution_count": 1,
     "metadata": {},
     "output_type": "execute_result"
    }
   ],
   "source": [
    "import findspark\n",
    "findspark.init()\n",
    "findspark.find()\n",
    "import pyspark\n",
    "findspark.find()"
   ]
  },
  {
   "cell_type": "code",
   "execution_count": 2,
   "metadata": {},
   "outputs": [],
   "source": [
    "from pyspark.mllib.clustering import KMeans\n",
    "from numpy import array, random\n",
    "from math import sqrt\n",
    "from pyspark import SparkConf, SparkContext\n",
    "from sklearn.preprocessing import scale"
   ]
  },
  {
   "cell_type": "code",
   "execution_count": 17,
   "metadata": {},
   "outputs": [],
   "source": [
    "K = 5"
   ]
  },
  {
   "cell_type": "code",
   "execution_count": 9,
   "metadata": {},
   "outputs": [
    {
     "data": {
      "text/html": [
       "\n",
       "        <div>\n",
       "            <p><b>SparkContext</b></p>\n",
       "\n",
       "            <p><a href=\"http://DESKTOP-NPRS36B:4040\">Spark UI</a></p>\n",
       "\n",
       "            <dl>\n",
       "              <dt>Version</dt>\n",
       "                <dd><code>v2.4.7</code></dd>\n",
       "              <dt>Master</dt>\n",
       "                <dd><code>local</code></dd>\n",
       "              <dt>AppName</dt>\n",
       "                <dd><code>SparkKMeans</code></dd>\n",
       "            </dl>\n",
       "        </div>\n",
       "        "
      ],
      "text/plain": [
       "<SparkContext master=local appName=SparkKMeans>"
      ]
     },
     "execution_count": 9,
     "metadata": {},
     "output_type": "execute_result"
    }
   ],
   "source": [
    "# Boilerplate Spark stuff:\n",
    "conf = SparkConf().setMaster(\"local\").setAppName(\"SparkKMeans\")\n",
    "sc = SparkContext(conf = conf)\n",
    "sc"
   ]
  },
  {
   "cell_type": "code",
   "execution_count": 10,
   "metadata": {},
   "outputs": [],
   "source": [
    "#Create fake income/age clusters for N people in k clusters\n",
    "def createClusteredData(N, k):\n",
    "    random.seed(10)\n",
    "    pointsPerCluster = float(N)/k\n",
    "    X = []\n",
    "    for i in range (k):\n",
    "        incomeCentroid = random.uniform(20000.0, 200000.0)\n",
    "        ageCentroid = random.uniform(20.0, 70.0)\n",
    "        for j in range(int(pointsPerCluster)):\n",
    "            X.append([random.normal(incomeCentroid, 10000.0), random.normal(ageCentroid, 2.0)])\n",
    "    X = array(X)\n",
    "    return X\n"
   ]
  },
  {
   "cell_type": "code",
   "execution_count": 18,
   "metadata": {},
   "outputs": [],
   "source": [
    "# Load the data; note I am normalizing it with scale() - very important!\n",
    "#scale: standardize the date along axis\n",
    "data = sc.parallelize(scale(createClusteredData(100, K)))"
   ]
  },
  {
   "cell_type": "code",
   "execution_count": 19,
   "metadata": {},
   "outputs": [
    {
     "name": "stderr",
     "output_type": "stream",
     "text": [
      "C:\\spark-2.4.7-bin-hadoop2.7\\python\\pyspark\\mllib\\clustering.py:347: UserWarning: The param `runs` has no effect since Spark 2.0.0.\n",
      "  warnings.warn(\"The param `runs` has no effect since Spark 2.0.0.\")\n"
     ]
    }
   ],
   "source": [
    "# Build the model (cluster the data)\n",
    "clusters = KMeans.train(data, K, maxIterations=10,\n",
    "        runs=10, initializationMode=\"random\")"
   ]
  },
  {
   "cell_type": "code",
   "execution_count": 20,
   "metadata": {},
   "outputs": [
    {
     "name": "stdout",
     "output_type": "stream",
     "text": [
      "Counts by value:\n",
      "defaultdict(<class 'int'>, {0: 14, 1: 6, 2: 40, 4: 19, 3: 21})\n",
      "Cluster assignments:\n",
      "[0, 1, 0, 0, 0, 0, 1, 0, 1, 0, 1, 0, 0, 0, 1, 1, 0, 0, 0, 0, 2, 2, 2, 2, 2, 2, 2, 2, 2, 2, 2, 2, 2, 2, 2, 2, 2, 2, 2, 2, 4, 4, 4, 4, 4, 4, 4, 4, 4, 4, 4, 4, 4, 4, 4, 4, 4, 4, 4, 3, 2, 2, 2, 2, 2, 2, 2, 2, 2, 2, 2, 2, 2, 2, 2, 2, 2, 2, 2, 2, 3, 3, 3, 3, 3, 3, 3, 3, 3, 3, 3, 3, 3, 3, 3, 3, 3, 3, 3, 3]\n"
     ]
    }
   ],
   "source": [
    "# Print out the cluster assignments\n",
    "resultRDD = data.map(lambda point: clusters.predict(point)).cache()\n",
    "\n",
    "print(\"Counts by value:\")\n",
    "counts = resultRDD.countByValue()\n",
    "print(counts)\n",
    "\n",
    "print(\"Cluster assignments:\")\n",
    "results = resultRDD.collect()\n",
    "print(results)\n"
   ]
  },
  {
   "cell_type": "code",
   "execution_count": 21,
   "metadata": {},
   "outputs": [
    {
     "name": "stdout",
     "output_type": "stream",
     "text": [
      "Within Set Sum of Squared Error = 33.286343946178945\n"
     ]
    }
   ],
   "source": [
    "# Evaluate clustering by computing Within Set Sum of Squared Errors\n",
    "def error(point):\n",
    "    center = clusters.centers[clusters.predict(point)]\n",
    "    return sqrt(sum([x**2 for x in (point - center)]))\n",
    "\n",
    "WSSSE = data.map(lambda point: error(point)).reduce(lambda x, y: x + y)\n",
    "print(\"Within Set Sum of Squared Error = \" + str(WSSSE))\n"
   ]
  },
  {
   "cell_type": "markdown",
   "metadata": {},
   "source": [
    "### What happens to WSSSE as you increase or decrease K? Why? \n"
   ]
  },
  {
   "cell_type": "code",
   "execution_count": 23,
   "metadata": {},
   "outputs": [
    {
     "name": "stderr",
     "output_type": "stream",
     "text": [
      "C:\\spark-2.4.7-bin-hadoop2.7\\python\\pyspark\\mllib\\clustering.py:347: UserWarning: The param `runs` has no effect since Spark 2.0.0.\n",
      "  warnings.warn(\"The param `runs` has no effect since Spark 2.0.0.\")\n"
     ]
    },
    {
     "name": "stdout",
     "output_type": "stream",
     "text": [
      "Counts by value:\n",
      "defaultdict(<class 'int'>, {1: 50, 0: 50})\n",
      "Cluster assignments:\n",
      "[1, 1, 1, 1, 1, 1, 1, 1, 1, 1, 1, 1, 1, 1, 1, 1, 1, 1, 1, 1, 1, 1, 1, 1, 1, 1, 1, 1, 1, 1, 1, 1, 1, 1, 1, 1, 1, 1, 1, 1, 1, 1, 1, 1, 1, 1, 1, 1, 1, 1, 0, 0, 0, 0, 0, 0, 0, 0, 0, 0, 0, 0, 0, 0, 0, 0, 0, 0, 0, 0, 0, 0, 0, 0, 0, 0, 0, 0, 0, 0, 0, 0, 0, 0, 0, 0, 0, 0, 0, 0, 0, 0, 0, 0, 0, 0, 0, 0, 0, 0]\n",
      "Within Set Sum of Squared Error = 23.79538138211942\n"
     ]
    }
   ],
   "source": [
    "# let's try decreasing k \n",
    "K = 2\n",
    "data = sc.parallelize(scale(createClusteredData(100, K)))\n",
    "clusters = KMeans.train(data, K, maxIterations=10,\n",
    "        runs=10, initializationMode=\"random\")\n",
    "resultRDD = data.map(lambda point: clusters.predict(point)).cache()\n",
    "\n",
    "print(\"Counts by value:\")\n",
    "counts = resultRDD.countByValue()\n",
    "print(counts)\n",
    "\n",
    "print(\"Cluster assignments:\")\n",
    "results = resultRDD.collect()\n",
    "print(results)\n",
    "WSSSE = data.map(lambda point: error(point)).reduce(lambda x, y: x + y)\n",
    "print(\"Within Set Sum of Squared Error = \" + str(WSSSE))"
   ]
  },
  {
   "cell_type": "code",
   "execution_count": 24,
   "metadata": {},
   "outputs": [
    {
     "name": "stderr",
     "output_type": "stream",
     "text": [
      "C:\\spark-2.4.7-bin-hadoop2.7\\python\\pyspark\\mllib\\clustering.py:347: UserWarning: The param `runs` has no effect since Spark 2.0.0.\n",
      "  warnings.warn(\"The param `runs` has no effect since Spark 2.0.0.\")\n"
     ]
    },
    {
     "name": "stdout",
     "output_type": "stream",
     "text": [
      "Counts by value:\n",
      "defaultdict(<class 'int'>, {5: 12, 4: 9, 0: 11, 3: 16, 2: 32, 1: 16})\n",
      "Cluster assignments:\n",
      "[5, 4, 5, 5, 5, 5, 4, 5, 4, 5, 4, 0, 5, 5, 5, 5, 3, 3, 3, 3, 3, 3, 3, 3, 3, 3, 3, 3, 3, 3, 3, 3, 2, 2, 2, 2, 2, 2, 2, 2, 2, 2, 2, 2, 2, 2, 2, 2, 1, 1, 1, 1, 1, 1, 1, 1, 1, 1, 1, 1, 1, 1, 1, 1, 4, 0, 0, 4, 4, 0, 4, 0, 0, 0, 0, 0, 5, 0, 0, 4, 2, 2, 2, 2, 2, 2, 2, 2, 2, 2, 2, 2, 2, 2, 2, 2]\n",
      "Within Set Sum of Squared Error = 20.684159154887354\n"
     ]
    }
   ],
   "source": [
    "# let's try increasing k \n",
    "K = 6\n",
    "data = sc.parallelize(scale(createClusteredData(100, K)))\n",
    "clusters = KMeans.train(data, K, maxIterations=10,\n",
    "        runs=10, initializationMode=\"random\")\n",
    "resultRDD = data.map(lambda point: clusters.predict(point)).cache()\n",
    "\n",
    "print(\"Counts by value:\")\n",
    "counts = resultRDD.countByValue()\n",
    "print(counts)\n",
    "\n",
    "print(\"Cluster assignments:\")\n",
    "results = resultRDD.collect()\n",
    "print(results)\n",
    "WSSSE = data.map(lambda point: error(point)).reduce(lambda x, y: x + y)\n",
    "print(\"Within Set Sum of Squared Error = \" + str(WSSSE))"
   ]
  },
  {
   "cell_type": "markdown",
   "metadata": {},
   "source": [
    "### Observation : \n"
   ]
  },
  {
   "cell_type": "markdown",
   "metadata": {},
   "source": [
    "Different local optimas for the same value of K ==> k-means is non-deterministic with respect to the initial cluster.\n",
    "Variation of WSSSE based on the values of K ==> the variation can be rather positive or negative if we increase the K values. \n",
    "==> In order to find the perfect value for K we need to compute a lot of different K values, plot the WSSSE curve and find the optimal value. \n"
   ]
  },
  {
   "cell_type": "markdown",
   "metadata": {},
   "source": [
    "## What happens if you don't normalize the input data before clustering?"
   ]
  },
  {
   "cell_type": "code",
   "execution_count": 25,
   "metadata": {},
   "outputs": [
    {
     "name": "stdout",
     "output_type": "stream",
     "text": [
      "Counts by value:\n",
      "defaultdict(<class 'int'>, {4: 20, 0: 15, 1: 17, 2: 28, 3: 20})\n",
      "Cluster assignments:\n",
      "[4, 4, 4, 4, 4, 4, 4, 4, 4, 4, 4, 4, 4, 4, 4, 4, 4, 4, 4, 4, 0, 0, 0, 0, 0, 0, 1, 1, 0, 0, 1, 0, 1, 0, 0, 0, 0, 0, 0, 1, 2, 2, 2, 2, 2, 2, 1, 2, 2, 1, 2, 2, 2, 2, 2, 2, 2, 2, 1, 2, 3, 3, 3, 3, 3, 3, 3, 3, 3, 3, 3, 3, 3, 3, 3, 3, 3, 3, 3, 3, 1, 2, 1, 2, 1, 2, 2, 1, 2, 2, 2, 1, 2, 1, 1, 2, 2, 2, 1, 1]\n",
      "Within Set Sum of Squared Error = 597770.0334061437\n"
     ]
    }
   ],
   "source": [
    "# Non normalized data\n",
    "K = 5\n",
    "data = sc.parallelize(createClusteredData(100, K))\n",
    "clusters = KMeans.train(data, K, maxIterations=10,\n",
    "        runs=10, initializationMode=\"random\")\n",
    "resultRDD = data.map(lambda point: clusters.predict(point)).cache()\n",
    "\n",
    "print(\"Counts by value:\")\n",
    "counts = resultRDD.countByValue()\n",
    "print(counts)\n",
    "\n",
    "print(\"Cluster assignments:\")\n",
    "results = resultRDD.collect()\n",
    "print(results)\n",
    "WSSSE = data.map(lambda point: error(point)).reduce(lambda x, y: x + y)\n",
    "print(\"Within Set Sum of Squared Error = \" + str(WSSSE))"
   ]
  },
  {
   "cell_type": "markdown",
   "metadata": {},
   "source": [
    "### Observation "
   ]
  },
  {
   "cell_type": "markdown",
   "metadata": {},
   "source": [
    "WSSSE=597770.033 which is a very high value ==> the model loses it's credibility\n",
    "==> this experiment highlights the importance of normalizing our data"
   ]
  },
  {
   "cell_type": "markdown",
   "metadata": {},
   "source": [
    "## What happens if you change the maxIterations or runs parameters?"
   ]
  },
  {
   "cell_type": "code",
   "execution_count": 30,
   "metadata": {},
   "outputs": [
    {
     "name": "stderr",
     "output_type": "stream",
     "text": [
      "C:\\spark-2.4.7-bin-hadoop2.7\\python\\pyspark\\mllib\\clustering.py:347: UserWarning: The param `runs` has no effect since Spark 2.0.0.\n",
      "  warnings.warn(\"The param `runs` has no effect since Spark 2.0.0.\")\n"
     ]
    },
    {
     "name": "stdout",
     "output_type": "stream",
     "text": [
      "Counts by value:\n",
      "defaultdict(<class 'int'>, {0: 20, 2: 20, 3: 23, 1: 20, 4: 17})\n",
      "Cluster assignments:\n",
      "[0, 0, 0, 0, 0, 0, 0, 0, 0, 0, 0, 0, 0, 0, 0, 0, 0, 0, 0, 0, 2, 2, 2, 2, 2, 2, 2, 2, 2, 2, 2, 2, 2, 2, 2, 2, 2, 2, 2, 2, 3, 3, 3, 3, 3, 3, 3, 3, 3, 3, 3, 3, 3, 3, 3, 3, 3, 3, 3, 3, 1, 1, 1, 1, 1, 1, 1, 1, 1, 1, 1, 1, 1, 1, 1, 1, 1, 1, 1, 1, 4, 4, 4, 4, 4, 4, 4, 4, 4, 3, 4, 4, 4, 4, 4, 3, 3, 4, 4, 4]\n",
      "Within Set Sum of Squared Error = 20.385885709661082\n"
     ]
    }
   ],
   "source": [
    "# Max iterations = 200\n",
    "K = 5\n",
    "data = sc.parallelize(scale(createClusteredData(100, K)))\n",
    "clusters = KMeans.train(data, K, maxIterations=200,\n",
    "        runs=10, initializationMode=\"random\")\n",
    "resultRDD = data.map(lambda point: clusters.predict(point)).cache()\n",
    "\n",
    "print(\"Counts by value:\")\n",
    "counts = resultRDD.countByValue()\n",
    "print(counts)\n",
    "\n",
    "print(\"Cluster assignments:\")\n",
    "results = resultRDD.collect()\n",
    "print(results)\n",
    "WSSSE = data.map(lambda point: error(point)).reduce(lambda x, y: x + y)\n",
    "print(\"Within Set Sum of Squared Error = \" + str(WSSSE))"
   ]
  },
  {
   "cell_type": "code",
   "execution_count": 31,
   "metadata": {},
   "outputs": [
    {
     "name": "stderr",
     "output_type": "stream",
     "text": [
      "C:\\spark-2.4.7-bin-hadoop2.7\\python\\pyspark\\mllib\\clustering.py:347: UserWarning: The param `runs` has no effect since Spark 2.0.0.\n",
      "  warnings.warn(\"The param `runs` has no effect since Spark 2.0.0.\")\n"
     ]
    },
    {
     "name": "stdout",
     "output_type": "stream",
     "text": [
      "Counts by value:\n",
      "defaultdict(<class 'int'>, {1: 20, 3: 20, 2: 40, 4: 12, 0: 8})\n",
      "Cluster assignments:\n",
      "[1, 1, 1, 1, 1, 1, 1, 1, 1, 1, 1, 1, 1, 1, 1, 1, 1, 1, 1, 1, 3, 3, 3, 3, 3, 3, 3, 3, 3, 3, 3, 3, 3, 3, 3, 3, 3, 3, 3, 3, 2, 2, 2, 2, 2, 2, 2, 2, 2, 2, 2, 2, 2, 2, 2, 2, 2, 2, 2, 2, 4, 4, 4, 0, 0, 0, 4, 4, 0, 0, 4, 0, 4, 4, 4, 0, 0, 4, 4, 4, 2, 2, 2, 2, 2, 2, 2, 2, 2, 2, 2, 2, 2, 2, 2, 2, 2, 2, 2, 2]\n",
      "Within Set Sum of Squared Error = 21.77217779843022\n"
     ]
    }
   ],
   "source": [
    "# Max iterations = 500\n",
    "K = 5\n",
    "data = sc.parallelize(scale(createClusteredData(100, K)))\n",
    "clusters = KMeans.train(data, K, maxIterations=500,\n",
    "        runs=10, initializationMode=\"random\")\n",
    "resultRDD = data.map(lambda point: clusters.predict(point)).cache()\n",
    "\n",
    "print(\"Counts by value:\")\n",
    "counts = resultRDD.countByValue()\n",
    "print(counts)\n",
    "\n",
    "print(\"Cluster assignments:\")\n",
    "results = resultRDD.collect()\n",
    "print(results)\n",
    "WSSSE = data.map(lambda point: error(point)).reduce(lambda x, y: x + y)\n",
    "print(\"Within Set Sum of Squared Error = \" + str(WSSSE))"
   ]
  },
  {
   "cell_type": "code",
   "execution_count": 32,
   "metadata": {},
   "outputs": [
    {
     "name": "stderr",
     "output_type": "stream",
     "text": [
      "C:\\spark-2.4.7-bin-hadoop2.7\\python\\pyspark\\mllib\\clustering.py:347: UserWarning: The param `runs` has no effect since Spark 2.0.0.\n",
      "  warnings.warn(\"The param `runs` has no effect since Spark 2.0.0.\")\n"
     ]
    },
    {
     "name": "stdout",
     "output_type": "stream",
     "text": [
      "Counts by value:\n",
      "defaultdict(<class 'int'>, {0: 20, 4: 20, 1: 20, 3: 20, 2: 20})\n",
      "Cluster assignments:\n",
      "[0, 0, 0, 0, 0, 0, 0, 0, 0, 0, 0, 0, 0, 0, 0, 0, 0, 0, 0, 0, 4, 4, 4, 4, 4, 4, 4, 4, 4, 4, 4, 4, 4, 4, 4, 4, 4, 4, 4, 4, 1, 1, 1, 1, 1, 1, 1, 1, 1, 3, 1, 1, 1, 1, 1, 1, 1, 1, 1, 1, 2, 2, 2, 2, 2, 2, 2, 2, 2, 2, 2, 2, 2, 2, 2, 2, 2, 2, 2, 2, 3, 3, 3, 3, 3, 3, 3, 3, 3, 1, 3, 3, 3, 3, 3, 3, 3, 3, 3, 3]\n",
      "Within Set Sum of Squared Error = 20.33374187668045\n"
     ]
    }
   ],
   "source": [
    "# Max iterations = 1500\n",
    "K = 5\n",
    "data = sc.parallelize(scale(createClusteredData(100, K)))\n",
    "clusters = KMeans.train(data, K, maxIterations=1500,\n",
    "        runs=10, initializationMode=\"random\")\n",
    "resultRDD = data.map(lambda point: clusters.predict(point)).cache()\n",
    "\n",
    "print(\"Counts by value:\")\n",
    "counts = resultRDD.countByValue()\n",
    "print(counts)\n",
    "\n",
    "print(\"Cluster assignments:\")\n",
    "results = resultRDD.collect()\n",
    "print(results)\n",
    "WSSSE = data.map(lambda point: error(point)).reduce(lambda x, y: x + y)\n",
    "print(\"Within Set Sum of Squared Error = \" + str(WSSSE))"
   ]
  },
  {
   "cell_type": "markdown",
   "metadata": {},
   "source": [
    "### Observation "
   ]
  },
  {
   "cell_type": "markdown",
   "metadata": {},
   "source": [
    "When increasing the maxiterations value, we got a better convergence for our model but when we reached a certain value of iterations, the maxiterations would'nt change the WSSSE to a better value"
   ]
  }
 ],
 "metadata": {
  "kernelspec": {
   "display_name": "Python 3",
   "language": "python",
   "name": "python3"
  },
  "language_info": {
   "codemirror_mode": {
    "name": "ipython",
    "version": 3
   },
   "file_extension": ".py",
   "mimetype": "text/x-python",
   "name": "python",
   "nbconvert_exporter": "python",
   "pygments_lexer": "ipython3",
   "version": "3.7.4"
  }
 },
 "nbformat": 4,
 "nbformat_minor": 2
}
